{
  "nbformat": 4,
  "nbformat_minor": 0,
  "metadata": {
    "colab": {
      "name": "HoughTransform.ipynb",
      "provenance": [],
      "authorship_tag": "ABX9TyNYHJau7Rspv4NtGuMDq7/V",
      "include_colab_link": true
    },
    "kernelspec": {
      "name": "python3",
      "display_name": "Python 3"
    }
  },
  "cells": [
    {
      "cell_type": "markdown",
      "metadata": {
        "id": "view-in-github",
        "colab_type": "text"
      },
      "source": [
        "<a href=\"https://colab.research.google.com/github/siddas27/SDCNE/blob/master/HoughTransform.ipynb\" target=\"_parent\"><img src=\"https://colab.research.google.com/assets/colab-badge.svg\" alt=\"Open In Colab\"/></a>"
      ]
    },
    {
      "cell_type": "code",
      "metadata": {
        "id": "gBiztkmRJgBP",
        "colab_type": "code",
        "colab": {}
      },
      "source": [
        "import matplotlib.pyplot as plt\n",
        "import matplotlib.image as mpimg\n",
        "import numpy as np\n",
        "import cv2\n",
        "\n",
        "\n",
        "# Read in and grayscale the image\n",
        "image = mpimg.imread('exit-ramp.jpg')\n",
        "gray = cv2.cvtColor(image,cv2.COLOR_RGB2GRAY)\n",
        "\n",
        "# Define a kernel size and apply Gaussian smoothing\n",
        "kernel_size = 5\n",
        "blur_gray = cv2.GaussianBlur(gray,(kernel_size, kernel_size),0)\n",
        "\n",
        "# Define our parameters for Canny and apply\n",
        "low_threshold = 50\n",
        "high_threshold = 150\n",
        "edges = cv2.Canny(blur_gray, low_threshold, high_threshold)\n",
        "\n",
        "# Next we'll create a masked edges image using cv2.fillPoly()\n",
        "mask = np.zeros_like(edges)   \n",
        "ignore_mask_color = 255   \n",
        "\n",
        "# This time we are defining a four sided polygon to mask\n",
        "imshape = image.shape\n",
        "vertices = np.array([[(0,imshape[0]),(0, 0), (imshape[1], 0), (imshape[1],imshape[0])]], dtype=np.int32)\n",
        "cv2.fillPoly(mask, vertices, ignore_mask_color)\n",
        "masked_edges = cv2.bitwise_and(edges, mask)\n",
        "\n",
        "# Define the Hough transform parameters\n",
        "# Make a blank the same size as our image to draw on\n",
        "rho = 2# distance resolution in pixels of the Hough grid\n",
        "theta = np.pi/180 # angular resolution in radians of the Hough grid\n",
        "threshold = 1     # minimum number of votes (intersections in Hough grid cell)\n",
        "min_line_length = 40 #minimum number of pixels making up a line\n",
        "max_line_gap = 20    # maximum gap in pixels between connectable line segments\n",
        "line_image = np.copy(image)*0 # creating a blank to draw lines on\n",
        "\n",
        "# Run Hough on edge detected image\n",
        "# Output \"lines\" is an array containing endpoints of detected line segments\n",
        "lines = cv2.HoughLinesP(masked_edges, rho, theta, threshold, np.array([]),\n",
        "                            min_line_length, max_line_gap)\n",
        "\n",
        "# Iterate over the output \"lines\" and draw lines on a blank image\n",
        "for line in lines:\n",
        "    for x1,y1,x2,y2 in line:\n",
        "        cv2.line(line_image,(x1,y1),(x2,y2),(255,0,0),10)\n",
        "\n",
        "# Create a \"color\" binary image to combine with line image\n",
        "color_edges = np.dstack((edges, edges, edges)) \n",
        "\n",
        "# Draw the lines on the edge image\n",
        "lines_edges = cv2.addWeighted(color_edges, 0.8, line_image, 1, 0) \n",
        "plt.imshow(lines_edges)\n",
        "\n"
      ],
      "execution_count": 0,
      "outputs": []
    }
  ]
}