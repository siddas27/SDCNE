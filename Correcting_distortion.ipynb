{
  "nbformat": 4,
  "nbformat_minor": 0,
  "metadata": {
    "colab": {
      "name": "Correcting distortion.ipynb",
      "provenance": [],
      "authorship_tag": "ABX9TyO+icUpLECC9DMGBMFkjLOA",
      "include_colab_link": true
    },
    "kernelspec": {
      "name": "python3",
      "display_name": "Python 3"
    }
  },
  "cells": [
    {
      "cell_type": "markdown",
      "metadata": {
        "id": "view-in-github",
        "colab_type": "text"
      },
      "source": [
        "<a href=\"https://colab.research.google.com/github/siddas27/SDCNE/blob/master/Correcting_distortion.ipynb\" target=\"_parent\"><img src=\"https://colab.research.google.com/assets/colab-badge.svg\" alt=\"Open In Colab\"/></a>"
      ]
    },
    {
      "cell_type": "code",
      "metadata": {
        "id": "nyOjdBqn0eSd",
        "colab_type": "code",
        "colab": {}
      },
      "source": [
        "import pickle\n",
        "import cv2\n",
        "import numpy as np\n",
        "import matplotlib.pyplot as plt\n",
        "import matplotlib.image as mpimg\n",
        "\n",
        "# Read in the saved objpoints and imgpoints\n",
        "dist_pickle = pickle.load( open( \"wide_dist_pickle.p\", \"rb\" ) )\n",
        "objpoints = dist_pickle[\"objpoints\"]\n",
        "imgpoints = dist_pickle[\"imgpoints\"]\n",
        "\n",
        "# Read in an image\n",
        "img = cv2.imread('test_image.png')\n",
        "\n",
        "# TODO: Write a function that takes an image, object points, and image points\n",
        "# performs the camera calibration, image distortion correction and \n",
        "# returns the undistorted image\n",
        "def cal_undistort(img, objpoints, imgpoints):\n",
        "    ret, mtx, dist, rvecs, tvecs = cv2.calibrateCamera(objpoints, imgpoints, img.shape[1:], None, None)\n",
        "    undist = cv2.undistort(img, mtx, dist, None, mtx)\n",
        "    return undist\n",
        "\n",
        "undistorted = cal_undistort(img, objpoints, imgpoints)\n",
        "\n",
        "f, (ax1, ax2) = plt.subplots(1, 2, figsize=(24, 9))\n",
        "f.tight_layout()\n",
        "ax1.imshow(img)\n",
        "ax1.set_title('Original Image', fontsize=50)\n",
        "ax2.imshow(undistorted)\n",
        "ax2.set_title('Undistorted Image', fontsize=50)\n",
        "plt.subplots_adjust(left=0., right=1, top=0.9, bottom=0.)"
      ],
      "execution_count": 0,
      "outputs": []
    }
  ]
}