{
  "nbformat": 4,
  "nbformat_minor": 0,
  "metadata": {
    "colab": {
      "name": "CannyEdges.ipynb",
      "provenance": [],
      "authorship_tag": "ABX9TyNuownCZ9oj1SXXNR+hVYcj",
      "include_colab_link": true
    },
    "kernelspec": {
      "name": "python3",
      "display_name": "Python 3"
    }
  },
  "cells": [
    {
      "cell_type": "markdown",
      "metadata": {
        "id": "view-in-github",
        "colab_type": "text"
      },
      "source": [
        "<a href=\"https://colab.research.google.com/github/siddas27/SDCNE/blob/master/CannyEdges.ipynb\" target=\"_parent\"><img src=\"https://colab.research.google.com/assets/colab-badge.svg\" alt=\"Open In Colab\"/></a>"
      ]
    },
    {
      "cell_type": "code",
      "metadata": {
        "id": "1HweNCnWJBBY",
        "colab_type": "code",
        "colab": {}
      },
      "source": [
        "# Do all the relevant imports\n",
        "import matplotlib.pyplot as plt\n",
        "import matplotlib.image as mpimg\n",
        "import numpy as np\n",
        "import cv2\n",
        "\n",
        "# Read in the image and convert to grayscale\n",
        "# Note: in the previous example we were reading a .jpg \n",
        "# Here we read a .png and convert to 0,255 bytescale\n",
        "image = mpimg.imread('exit-ramp.jpg')\n",
        "gray = cv2.cvtColor(image,cv2.COLOR_RGB2GRAY)\n",
        "\n",
        "# Define a kernel size for Gaussian smoothing / blurring\n",
        "kernel_size = 3 # Must be an odd number (3, 5, 7...)\n",
        "blur_gray = cv2.GaussianBlur(gray,(kernel_size, kernel_size),0)\n",
        "\n",
        "# Define our parameters for Canny and run it\n",
        "low_threshold = 100\n",
        "high_threshold = 200\n",
        "edges = cv2.Canny(blur_gray, low_threshold, high_threshold)\n",
        "\n",
        "# Display the image\n",
        "plt.imshow(edges, cmap='Greys_r')"
      ],
      "execution_count": 0,
      "outputs": []
    }
  ]
}