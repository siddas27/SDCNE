{
  "nbformat": 4,
  "nbformat_minor": 0,
  "metadata": {
    "colab": {
      "name": "Untitled6.ipynb",
      "provenance": [],
      "authorship_tag": "ABX9TyMpD57r6EUw+RpKTNEgtfEk",
      "include_colab_link": true
    },
    "kernelspec": {
      "name": "python3",
      "display_name": "Python 3"
    }
  },
  "cells": [
    {
      "cell_type": "markdown",
      "metadata": {
        "id": "view-in-github",
        "colab_type": "text"
      },
      "source": [
        "<a href=\"https://colab.research.google.com/github/siddas27/SDCNE/blob/master/Dir%20Grad.ipynb\" target=\"_parent\"><img src=\"https://colab.research.google.com/assets/colab-badge.svg\" alt=\"Open In Colab\"/></a>"
      ]
    },
    {
      "cell_type": "code",
      "metadata": {
        "id": "MelLTsQok2Ne",
        "colab_type": "code",
        "colab": {}
      },
      "source": [
        "import numpy as np\n",
        "import cv2\n",
        "import matplotlib.pyplot as plt\n",
        "import matplotlib.image as mpimg\n",
        "import pickle\n",
        "\n",
        "\n",
        "# Read in an image\n",
        "image = mpimg.imread('signs_vehicles_xygrad.png')\n",
        "\n",
        "# Define a function that applies Sobel x and y, \n",
        "# then computes the direction of the gradient\n",
        "# and applies a threshold.\n",
        "def dir_threshold(img, sobel_kernel=3, thresh=(0, np.pi/2)):\n",
        "    # Apply the following steps to img\n",
        "    # 1) Convert to grayscale\n",
        "    gray = cv2.cvtColor(img, cv2.COLOR_RGB2GRAY)\n",
        "    # Calculate the x and y gradients\n",
        "    sobelx = cv2.Sobel(gray, cv2.CV_64F, 1, 0, ksize=sobel_kernel)\n",
        "    sobely = cv2.Sobel(gray, cv2.CV_64F, 0, 1, ksize=sobel_kernel)\n",
        "    # Take the absolute value of the gradient direction, \n",
        "    # apply a threshold, and create a binary image result\n",
        "    absgraddir = np.arctan2(np.absolute(sobely), np.absolute(sobelx))\n",
        "    binary_output =  np.zeros_like(absgraddir)\n",
        "    binary_output[(absgraddir >= thresh[0]) & (absgraddir <= thresh[1])] = 1\n",
        "\n",
        "    # Return the binary image\n",
        "    return binary_output\n",
        "\n",
        "# Run the function\n",
        "dir_binary = dir_threshold(image, sobel_kernel=15, thresh=(0.7, 1.3))\n",
        "# Plot the result\n",
        "f, (ax1, ax2) = plt.subplots(1, 2, figsize=(24, 9))\n",
        "f.tight_layout()\n",
        "ax1.imshow(image)\n",
        "ax1.set_title('Original Image', fontsize=50)\n",
        "ax2.imshow(dir_binary, cmap='gray')\n",
        "ax2.set_title('Thresholded Grad. Dir.', fontsize=50)\n",
        "plt.subplots_adjust(left=0., right=1, top=0.9, bottom=0.)"
      ],
      "execution_count": 0,
      "outputs": []
    }
  ]
}