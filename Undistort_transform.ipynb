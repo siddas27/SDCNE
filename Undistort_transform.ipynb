{
  "nbformat": 4,
  "nbformat_minor": 0,
  "metadata": {
    "colab": {
      "name": "Undistort_transform.ipynb",
      "provenance": [],
      "authorship_tag": "ABX9TyPEXU5RsExt1e7NE8ta6/CR",
      "include_colab_link": true
    },
    "kernelspec": {
      "name": "python3",
      "display_name": "Python 3"
    }
  },
  "cells": [
    {
      "cell_type": "markdown",
      "metadata": {
        "id": "view-in-github",
        "colab_type": "text"
      },
      "source": [
        "<a href=\"https://colab.research.google.com/github/siddas27/SDCNE/blob/master/Undistort_transform.ipynb\" target=\"_parent\"><img src=\"https://colab.research.google.com/assets/colab-badge.svg\" alt=\"Open In Colab\"/></a>"
      ]
    },
    {
      "cell_type": "code",
      "metadata": {
        "id": "XcB5xw6iWyjr",
        "colab_type": "code",
        "colab": {}
      },
      "source": [
        "\n",
        "\n",
        "import pickle\n",
        "import cv2\n",
        "import numpy as np\n",
        "import matplotlib.pyplot as plt\n",
        "import matplotlib.image as mpimg\n",
        "\n",
        "# Read in the saved camera matrix and distortion coefficients\n",
        "# These are the arrays you calculated using cv2.calibrateCamera()\n",
        "dist_pickle = pickle.load( open( \"wide_dist_pickle.p\", \"rb\" ) )\n",
        "mtx = dist_pickle[\"mtx\"]\n",
        "dist = dist_pickle[\"dist\"]\n",
        "\n",
        "# Read in an image\n",
        "img = cv2.imread('test_image2.png')\n",
        "nx = 8 # the number of inside corners in x\n",
        "ny = 6 # the number of inside corners in y\n",
        "\n",
        "# MODIFY THIS FUNCTION TO GENERATE OUTPUT \n",
        "# THAT LOOKS LIKE THE IMAGE ABOVE\n",
        "def corners_unwarp(img, nx, ny, mtx, dist):\n",
        "    # Pass in your image into this function\n",
        "    # Write code to do the following steps\n",
        "    # 1) Undistort using mtx and dist\n",
        "    undist = cv2.undistort(img,mtx,dist,None,mtx)\n",
        "    # 2) Convert to grayscale\n",
        "    gray = cv2.cvtColor(img, cv2.COLOR_BGR2GRAY)\n",
        "    # 3) Find the chessboard corners\n",
        "    ret, corners = cv2.findChessboardCorners(gray, (nx, ny), None)    \n",
        "    # 4) If corners found: \n",
        "    if ret:\n",
        "            # a) draw corners\n",
        "            cv2.drawChessboardCorners(img, (nx, ny), corners, ret)\n",
        "            # b) define 4 source points src = np.float32([[,],[,],[,],[,]])\n",
        "                 #Note: you could pick any four of the detected corners \n",
        "                 # as long as those four corners define a rectangle\n",
        "                 #One especially smart way to do this would be to use four well-chosen\n",
        "                 # corners that were automatically detected during the undistortion steps\n",
        "                 #We recommend using the automatic detection of corners in your code\n",
        "            src = np.float32([corners[0][0],corners[7][0],corners[-8][0],corners[-1][0]])\n",
        "            # c) define 4 destination points dst = np.float32([[,],[,],[,],[,]])\n",
        "            dst=np.float32([[100,100],[1200,100],[100,900],[1200,900]])\n",
        "            # d) use cv2.getPerspectiveTransform() to get M, the transform matrix\n",
        "            M = cv2.getPerspectiveTransform(src,dst)\n",
        "            # e) use cv2.warpPerspective() to warp your image to a top-down view\n",
        "            img_size =(img.shape[1],img.shape[0])\n",
        "            warped = cv2.warpPerspective(img,M,img_size, flags=cv2.INTER_LINEAR)\n",
        "    return warped, M\n",
        "\n",
        "top_down, perspective_M = corners_unwarp(img, nx, ny, mtx, dist)\n",
        "f, (ax1, ax2) = plt.subplots(1, 2, figsize=(24, 9))\n",
        "f.tight_layout()\n",
        "ax1.imshow(img)\n",
        "ax1.set_title('Original Image', fontsize=50)\n",
        "ax2.imshow(top_down)\n",
        "ax2.set_title('Undistorted and Warped Image', fontsize=50)\n",
        "plt.subplots_adjust(left=0., right=1, top=0.9, bottom=0.)\n"
      ],
      "execution_count": 0,
      "outputs": []
    }
  ]
}