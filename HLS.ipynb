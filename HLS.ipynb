{
  "nbformat": 4,
  "nbformat_minor": 0,
  "metadata": {
    "colab": {
      "name": "HLS.ipynb",
      "provenance": [],
      "authorship_tag": "ABX9TyM0TUWWSyidackiP+IwyP69",
      "include_colab_link": true
    },
    "kernelspec": {
      "name": "python3",
      "display_name": "Python 3"
    }
  },
  "cells": [
    {
      "cell_type": "markdown",
      "metadata": {
        "id": "view-in-github",
        "colab_type": "text"
      },
      "source": [
        "<a href=\"https://colab.research.google.com/github/siddas27/SDCNE/blob/master/HLS.ipynb\" target=\"_parent\"><img src=\"https://colab.research.google.com/assets/colab-badge.svg\" alt=\"Open In Colab\"/></a>"
      ]
    },
    {
      "cell_type": "code",
      "metadata": {
        "id": "MelLTsQok2Ne",
        "colab_type": "code",
        "colab": {}
      },
      "source": [
        "import matplotlib.pyplot as plt\n",
        "import matplotlib.image as mpimg\n",
        "import numpy as np\n",
        "import cv2\n",
        "\n",
        "# Read in an image, you can also try test1.jpg or test4.jpg\n",
        "image = mpimg.imread('test6.jpg') \n",
        "\n",
        "# TODO: Define a function that thresholds the S-channel of HLS\n",
        "# Use exclusive lower bound (>) and inclusive upper (<=)\n",
        "def hls_select(img, thresh=(0, 255)):\n",
        "    # 1) Convert to HLS color space\n",
        "    hls= cv2.cvtColor(img, cv2.COLOR_RGB2HLS)\n",
        "    # 2) Apply a threshold to the S channel\n",
        "    S =hls[:,:,2]\n",
        "    binary = np.zeros_like(S)\n",
        "    binary[(S > thresh[0]) & (S <= thresh[1])] = 1\n",
        "    # 3) Return a binary image of threshold result\n",
        "    binary_output = binary # placeholder line\n",
        "    return binary_output\n",
        "    \n",
        "# Optional TODO - tune the threshold to try to match the above image!    \n",
        "hls_binary = hls_select(image, thresh=(0, 255))\n",
        "\n",
        "# Plot the result\n",
        "f, (ax1, ax2) = plt.subplots(1, 2, figsize=(24, 9))\n",
        "f.tight_layout()\n",
        "ax1.imshow(image)\n",
        "ax1.set_title('Original Image', fontsize=50)\n",
        "ax2.imshow(hls_binary, cmap='gray')\n",
        "ax2.set_title('Thresholded S', fontsize=50)\n",
        "plt.subplots_adjust(left=0., right=1, top=0.9, bottom=0.)"
      ],
      "execution_count": 0,
      "outputs": []
    }
  ]
}