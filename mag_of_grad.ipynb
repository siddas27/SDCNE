{
  "nbformat": 4,
  "nbformat_minor": 0,
  "metadata": {
    "colab": {
      "name": "mag of grad.ipynb",
      "provenance": [],
      "authorship_tag": "ABX9TyN7s+7t9S1oJ5q3qzqMW/Tv",
      "include_colab_link": true
    },
    "kernelspec": {
      "name": "python3",
      "display_name": "Python 3"
    }
  },
  "cells": [
    {
      "cell_type": "markdown",
      "metadata": {
        "id": "view-in-github",
        "colab_type": "text"
      },
      "source": [
        "<a href=\"https://colab.research.google.com/github/siddas27/SDCNE/blob/master/mag_of_grad.ipynb\" target=\"_parent\"><img src=\"https://colab.research.google.com/assets/colab-badge.svg\" alt=\"Open In Colab\"/></a>"
      ]
    },
    {
      "cell_type": "code",
      "metadata": {
        "id": "cJiboL-Ged5H",
        "colab_type": "code",
        "colab": {}
      },
      "source": [
        "import numpy as np\n",
        "import cv2\n",
        "import matplotlib.pyplot as plt\n",
        "import matplotlib.image as mpimg\n",
        "import pickle\n",
        "\n",
        "\n",
        "# Read in an image\n",
        "image = mpimg.imread('signs_vehicles_xygrad.png')\n",
        "\n",
        "# Define a function that applies Sobel x and y, \n",
        "# then computes the magnitude of the gradient\n",
        "# and applies a threshold\n",
        "def mag_thresh(img, sobel_kernel=3, mag_thresh=(0, 255)):\n",
        "    \n",
        "    # Apply the following steps to img\n",
        "    # 1) Convert to grayscale\n",
        "    gray = cv2.cvtColor(img, cv2.COLOR_RGB2GRAY)\n",
        "    # 2) Take the gradient in x and y separately\n",
        "    sobelx = cv2.Sobel(gray, cv2.CV_64F, 1, 0,sobel_kernel)\n",
        "    sobely = cv2.Sobel(gray, cv2.CV_64F, 0,1,sobel_kernel)\n",
        "    # 3) Calculate the magnitude \n",
        "    abs_sobelxy = np.sqrt(sobelx**2+sobely**2)\n",
        "    # 4) Scale to 8-bit (0 - 255) and convert to type = np.uint8\n",
        "    scaled_sobel = np.uint8(255*abs_sobelxy/np.max(abs_sobelxy))\n",
        "    # 5) Create a binary mask where mag thresholds are met\n",
        "    binary_output = np.zeros_like(scaled_sobel)\n",
        "    binary_output[(scaled_sobel >= mag_thresh[0]) & (scaled_sobel <= mag_thresh[1])] = 1\n",
        "    # 6) Return this mask as your binary_output image\n",
        "    #binary_output = np.copy(img) # Remove this line\n",
        "    return binary_output\n",
        "    \n",
        "# Run the function\n",
        "mag_binary = mag_thresh(image, sobel_kernel=3, mag_thresh=(30, 100))\n",
        "# Plot the result\n",
        "f, (ax1, ax2) = plt.subplots(1, 2, figsize=(24, 9))\n",
        "f.tight_layout()\n",
        "ax1.imshow(image)\n",
        "ax1.set_title('Original Image', fontsize=50)\n",
        "ax2.imshow(mag_binary, cmap='gray')\n",
        "ax2.set_title('Thresholded Magnitude', fontsize=50)\n",
        "plt.subplots_adjust(left=0., right=1, top=0.9, bottom=0.)"
      ],
      "execution_count": 0,
      "outputs": []
    }
  ]
}