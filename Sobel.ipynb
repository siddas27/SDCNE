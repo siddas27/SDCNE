{
  "nbformat": 4,
  "nbformat_minor": 0,
  "metadata": {
    "colab": {
      "name": "Sobel.ipynb",
      "provenance": [],
      "authorship_tag": "ABX9TyOSKC57aVBxLy/TybDTj0in",
      "include_colab_link": true
    },
    "kernelspec": {
      "name": "python3",
      "display_name": "Python 3"
    }
  },
  "cells": [
    {
      "cell_type": "markdown",
      "metadata": {
        "id": "view-in-github",
        "colab_type": "text"
      },
      "source": [
        "<a href=\"https://colab.research.google.com/github/siddas27/SDCNE/blob/master/Sobel.ipynb\" target=\"_parent\"><img src=\"https://colab.research.google.com/assets/colab-badge.svg\" alt=\"Open In Colab\"/></a>"
      ]
    },
    {
      "cell_type": "code",
      "metadata": {
        "id": "PX-eB4jPZrsY",
        "colab_type": "code",
        "colab": {}
      },
      "source": [
        "import numpy as np\n",
        "import cv2\n",
        "import matplotlib.pyplot as plt\n",
        "import matplotlib.image as mpimg\n",
        "import pickle\n",
        "\n",
        "\n",
        "# Read in an image and grayscale it\n",
        "image = mpimg.imread('signs_vehicles_xygrad.png')\n",
        "\n",
        "# Define a function that applies Sobel x or y, \n",
        "# then takes an absolute value and applies a threshold.\n",
        "# Note: calling your function with orient='x', thresh_min=20, thresh_max=100\n",
        "# should produce output like the example image shown above this quiz.\n",
        "def abs_sobel_thresh(img, orient='x', thresh_min=0, thresh_max=255):\n",
        "    \n",
        "    # Apply the following steps to img\n",
        "    # 1) Convert to grayscale\n",
        "    gray = cv2.cvtColor(img, cv2.COLOR_RGB2GRAY)\n",
        "    # 2) Take the derivative in x or y given orient = 'x' or 'y'\n",
        "    if orient=='x':\n",
        "        sobel = cv2.Sobel(gray, cv2.CV_64F, 1, 0)\n",
        "    else:\n",
        "        sobel = cv2.Sobel(gray, cv2.CV_64F, 0,1)\n",
        "    # 3) Take the absolute value of the derivative or gradient\n",
        "    abs_sobel = np.absolute(sobel)\n",
        "    # 4) Scale to 8-bit (0 - 255) then convert to type = np.uint8\n",
        "    scaled_sobel = np.uint8(255*abs_sobel/np.max(abs_sobel))\n",
        "    # 5) Create a mask of 1's where the scaled gradient magnitude \n",
        "            # is > thresh_min and < thresh_max\n",
        "    sxbinary = np.zeros_like(scaled_sobel)\n",
        "    sxbinary[(scaled_sobel >= thresh_min) & (scaled_sobel <= thresh_max)] = 1\n",
        "    # 6) Return this mask as your binary_output image\n",
        "    binary_output = sxbinary # Remove this line\n",
        "    return binary_output\n",
        "    \n",
        "# Run the function\n",
        "grad_binary = abs_sobel_thresh(image, orient='x', thresh_min=20, thresh_max=100)\n",
        "# Plot the result\n",
        "f, (ax1, ax2) = plt.subplots(1, 2, figsize=(24, 9))\n",
        "f.tight_layout()\n",
        "ax1.imshow(image)\n",
        "ax1.set_title('Original Image', fontsize=50)\n",
        "ax2.imshow(grad_binary, cmap='gray')\n",
        "ax2.set_title('Thresholded Gradient', fontsize=50)\n",
        "plt.subplots_adjust(left=0., right=1, top=0.9, bottom=0.)"
      ],
      "execution_count": 0,
      "outputs": []
    }
  ]
}