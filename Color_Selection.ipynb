{
  "nbformat": 4,
  "nbformat_minor": 0,
  "metadata": {
    "colab": {
      "name": "Color Selection.ipynb",
      "provenance": [],
      "authorship_tag": "ABX9TyPTnFu8sqiYxDS/+/x9Z9gK",
      "include_colab_link": true
    },
    "kernelspec": {
      "name": "python3",
      "display_name": "Python 3"
    }
  },
  "cells": [
    {
      "cell_type": "markdown",
      "metadata": {
        "id": "view-in-github",
        "colab_type": "text"
      },
      "source": [
        "<a href=\"https://colab.research.google.com/github/siddas27/Self-Driving-Car-Nanodegree/blob/master/Color_Selection.ipynb\" target=\"_parent\"><img src=\"https://colab.research.google.com/assets/colab-badge.svg\" alt=\"Open In Colab\"/></a>"
      ]
    },
    {
      "cell_type": "code",
      "metadata": {
        "id": "MNZ-FpWoGArq",
        "colab_type": "code",
        "colab": {}
      },
      "source": [
        "import matplotlib.pyplot as plt\n",
        "import matplotlib.image as mpimg\n",
        "import numpy as np\n",
        "\n",
        "# Read in the image\n",
        "image = mpimg.imread('test.jpg')\n",
        "\n",
        "# Grab the x and y size and make a copy of the image\n",
        "ysize = image.shape[0]\n",
        "xsize = image.shape[1]\n",
        "color_select = np.copy(image)\n",
        "\n",
        "# Define color selection criteria\n",
        "###### MODIFY THESE VARIABLES TO MAKE YOUR COLOR SELECTION\n",
        "red_threshold = 200\n",
        "green_threshold = 200\n",
        "blue_threshold = 200\n",
        "######\n",
        "\n",
        "rgb_threshold = [red_threshold, green_threshold, blue_threshold]\n",
        "\n",
        "# Do a boolean or with the \"|\" character to identify\n",
        "# pixels below the thresholds\n",
        "thresholds = (image[:,:,0] < rgb_threshold[0]) \\\n",
        "            | (image[:,:,1] < rgb_threshold[1]) \\\n",
        "            | (image[:,:,2] < rgb_threshold[2])\n",
        "color_select[thresholds] = [0,0,0]\n",
        "\n",
        "# Display the image                 \n",
        "plt.imshow(color_select)\n",
        "\n",
        "# Uncomment the following code if you are running the code locally and wish to save the image\n",
        "# mpimg.imsave(\"test-after.png\", color_select)\n"
      ],
      "execution_count": 0,
      "outputs": []
    }
  ]
}