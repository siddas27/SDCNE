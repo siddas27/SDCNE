{
  "nbformat": 4,
  "nbformat_minor": 0,
  "metadata": {
    "colab": {
      "name": "Color region.ipynb",
      "provenance": [],
      "authorship_tag": "ABX9TyNWdLhWQoZB6/1mp53/tXsp",
      "include_colab_link": true
    },
    "kernelspec": {
      "name": "python3",
      "display_name": "Python 3"
    }
  },
  "cells": [
    {
      "cell_type": "markdown",
      "metadata": {
        "id": "view-in-github",
        "colab_type": "text"
      },
      "source": [
        "<a href=\"https://colab.research.google.com/github/siddas27/SDCNE/blob/master/Color_region.ipynb\" target=\"_parent\"><img src=\"https://colab.research.google.com/assets/colab-badge.svg\" alt=\"Open In Colab\"/></a>"
      ]
    },
    {
      "cell_type": "code",
      "metadata": {
        "id": "cJ4EVR4RHpKM",
        "colab_type": "code",
        "colab": {}
      },
      "source": [
        "import matplotlib.pyplot as plt\n",
        "import matplotlib.image as mpimg\n",
        "import numpy as np\n",
        "\n",
        "# Read in the image\n",
        "image = mpimg.imread('test.jpg')\n",
        "\n",
        "# Grab the x and y size and make a copy of the image\n",
        "ysize = image.shape[0]\n",
        "xsize = image.shape[1]\n",
        "color_select = np.copy(image)\n",
        "line_image = np.copy(image)\n",
        "\n",
        "# Define color selection criteria\n",
        "# MODIFY THESE VARIABLES TO MAKE YOUR COLOR SELECTION\n",
        "red_threshold = 200\n",
        "green_threshold = 200\n",
        "blue_threshold = 200\n",
        "\n",
        "rgb_threshold = [red_threshold, green_threshold, blue_threshold]\n",
        "\n",
        "# Define the vertices of a triangular mask.\n",
        "# Keep in mind the origin (x=0, y=0) is in the upper left\n",
        "# MODIFY THESE VALUES TO ISOLATE THE REGION \n",
        "# WHERE THE LANE LINES ARE IN THE IMAGE\n",
        "left_bottom = [0, 539]\n",
        "right_bottom = [900, 539]\n",
        "apex = [450, 260]\n",
        "\n",
        "# Perform a linear fit (y=Ax+B) to each of the three sides of the triangle\n",
        "# np.polyfit returns the coefficients [A, B] of the fit\n",
        "fit_left = np.polyfit((left_bottom[0], apex[0]), (left_bottom[1], apex[1]), 1)\n",
        "fit_right = np.polyfit((right_bottom[0], apex[0]), (right_bottom[1], apex[1]), 1)\n",
        "fit_bottom = np.polyfit((left_bottom[0], right_bottom[0]), (left_bottom[1], right_bottom[1]), 1)\n",
        "\n",
        "# Mask pixels below the threshold\n",
        "color_thresholds = (image[:,:,0] < rgb_threshold[0]) | \\\n",
        "                    (image[:,:,1] < rgb_threshold[1]) | \\\n",
        "                    (image[:,:,2] < rgb_threshold[2])\n",
        "\n",
        "# Find the region inside the lines\n",
        "XX, YY = np.meshgrid(np.arange(0, xsize), np.arange(0, ysize))\n",
        "region_thresholds = (YY > (XX*fit_left[0] + fit_left[1])) & \\\n",
        "                    (YY > (XX*fit_right[0] + fit_right[1])) & \\\n",
        "                    (YY < (XX*fit_bottom[0] + fit_bottom[1]))\n",
        "                    \n",
        "# Mask color and region selection\n",
        "color_select[color_thresholds | ~region_thresholds] = [0, 0, 0]\n",
        "# Color pixels red where both color and region selections met\n",
        "line_image[~color_thresholds & region_thresholds] = [255, 0, 0]\n",
        "\n",
        "# Display the image and show region and color selections\n",
        "plt.imshow(image)\n",
        "x = [left_bottom[0], right_bottom[0], apex[0], left_bottom[0]]\n",
        "y = [left_bottom[1], right_bottom[1], apex[1], left_bottom[1]]\n",
        "plt.plot(x, y, 'b--', lw=4)\n",
        "plt.imshow(color_select)\n",
        "plt.imshow(line_image)\n"
      ],
      "execution_count": 0,
      "outputs": []
    }
  ]
}