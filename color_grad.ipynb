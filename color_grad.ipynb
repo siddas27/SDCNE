{
  "nbformat": 4,
  "nbformat_minor": 0,
  "metadata": {
    "colab": {
      "name": "color grad.ipynb",
      "provenance": [],
      "authorship_tag": "ABX9TyOmYg0JSJaG0BdwbA6qdINb",
      "include_colab_link": true
    },
    "kernelspec": {
      "name": "python3",
      "display_name": "Python 3"
    }
  },
  "cells": [
    {
      "cell_type": "markdown",
      "metadata": {
        "id": "view-in-github",
        "colab_type": "text"
      },
      "source": [
        "<a href=\"https://colab.research.google.com/github/siddas27/SDCNE/blob/master/color_grad.ipynb\" target=\"_parent\"><img src=\"https://colab.research.google.com/assets/colab-badge.svg\" alt=\"Open In Colab\"/></a>"
      ]
    },
    {
      "cell_type": "code",
      "metadata": {
        "id": "MelLTsQok2Ne",
        "colab_type": "code",
        "colab": {}
      },
      "source": [
        "import numpy as np\n",
        "import cv2\n",
        "import matplotlib.pyplot as plt\n",
        "import matplotlib.image as mpimg\n",
        "\n",
        "\n",
        "image = mpimg.imread('bridge_shadow.jpg')\n",
        "\n",
        "# Edit this function to create your own pipeline.\n",
        "def pipeline(img, s_thresh=(170, 255), sx_thresh=(20, 100)):\n",
        "    img = np.copy(img)\n",
        "    # Convert to HLS color space and separate the V channel\n",
        "    hls = cv2.cvtColor(img, cv2.COLOR_RGB2HLS)\n",
        "    l_channel = hls[:,:,1]\n",
        "    s_channel = hls[:,:,2]\n",
        "    # Sobel x\n",
        "    sobelx = cv2.Sobel(l_channel, cv2.CV_64F, 1, 0) # Take the derivative in x\n",
        "    abs_sobelx = np.absolute(sobelx) # Absolute x derivative to accentuate lines away from horizontal\n",
        "    scaled_sobel = np.uint8(255*abs_sobelx/np.max(abs_sobelx))\n",
        "    \n",
        "    # Threshold x gradient\n",
        "    sxbinary = np.zeros_like(scaled_sobel)\n",
        "    sxbinary[(scaled_sobel >= sx_thresh[0]) & (scaled_sobel <= sx_thresh[1])] = 1\n",
        "    \n",
        "    # Threshold color channel\n",
        "    s_binary = np.zeros_like(s_channel)\n",
        "    s_binary[(s_channel >= s_thresh[0]) & (s_channel <= s_thresh[1])] = 1\n",
        "    # Stack each channel\n",
        "    color_binary = np.dstack(( np.zeros_like(sxbinary), sxbinary, s_binary)) * 255\n",
        "    return color_binary\n",
        "    \n",
        "result = pipeline(image)\n",
        "\n",
        "# Plot the result\n",
        "f, (ax1, ax2) = plt.subplots(1, 2, figsize=(24, 9))\n",
        "f.tight_layout()\n",
        "\n",
        "ax1.imshow(image)\n",
        "ax1.set_title('Original Image', fontsize=40)\n",
        "\n",
        "ax2.imshow(result)\n",
        "ax2.set_title('Pipeline Result', fontsize=40)\n",
        "plt.subplots_adjust(left=0., right=1, top=0.9, bottom=0.)"
      ],
      "execution_count": 0,
      "outputs": []
    }
  ]
}